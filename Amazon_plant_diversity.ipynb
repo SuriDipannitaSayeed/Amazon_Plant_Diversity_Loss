{
 "cells": [
  {
   "cell_type": "code",
   "execution_count": 1,
   "metadata": {},
   "outputs": [
    {
     "data": {
      "text/html": [
       "<div>\n",
       "<style scoped>\n",
       "    .dataframe tbody tr th:only-of-type {\n",
       "        vertical-align: middle;\n",
       "    }\n",
       "\n",
       "    .dataframe tbody tr th {\n",
       "        vertical-align: top;\n",
       "    }\n",
       "\n",
       "    .dataframe thead th {\n",
       "        text-align: right;\n",
       "    }\n",
       "</style>\n",
       "<table border=\"1\" class=\"dataframe\">\n",
       "  <thead>\n",
       "    <tr style=\"text-align: right;\">\n",
       "      <th></th>\n",
       "      <th>year</th>\n",
       "      <th>treecover_loss__ha</th>\n",
       "      <th>aboveground_co2_emissions__Mg</th>\n",
       "      <th>Threatened Species</th>\n",
       "      <th>Species with &lt;1000 individuals</th>\n",
       "      <th>Total Species</th>\n",
       "      <th>Threatened_Percentile</th>\n",
       "    </tr>\n",
       "  </thead>\n",
       "  <tbody>\n",
       "    <tr>\n",
       "      <td>0</td>\n",
       "      <td>2001</td>\n",
       "      <td>5.634249e+05</td>\n",
       "      <td>1.790238e+08</td>\n",
       "      <td>2814</td>\n",
       "      <td>1619</td>\n",
       "      <td>15200</td>\n",
       "      <td>18.513158</td>\n",
       "    </tr>\n",
       "    <tr>\n",
       "      <td>1</td>\n",
       "      <td>2002</td>\n",
       "      <td>2.584320e+06</td>\n",
       "      <td>9.276357e+08</td>\n",
       "      <td>3014</td>\n",
       "      <td>1619</td>\n",
       "      <td>15200</td>\n",
       "      <td>19.828947</td>\n",
       "    </tr>\n",
       "    <tr>\n",
       "      <td>2</td>\n",
       "      <td>2003</td>\n",
       "      <td>4.705918e+05</td>\n",
       "      <td>1.459349e+08</td>\n",
       "      <td>3214</td>\n",
       "      <td>1619</td>\n",
       "      <td>15200</td>\n",
       "      <td>21.144737</td>\n",
       "    </tr>\n",
       "    <tr>\n",
       "      <td>3</td>\n",
       "      <td>2004</td>\n",
       "      <td>5.162738e+05</td>\n",
       "      <td>1.748335e+08</td>\n",
       "      <td>3414</td>\n",
       "      <td>1619</td>\n",
       "      <td>15200</td>\n",
       "      <td>22.460526</td>\n",
       "    </tr>\n",
       "    <tr>\n",
       "      <td>4</td>\n",
       "      <td>2005</td>\n",
       "      <td>2.534872e+06</td>\n",
       "      <td>1.014695e+09</td>\n",
       "      <td>3614</td>\n",
       "      <td>1619</td>\n",
       "      <td>15200</td>\n",
       "      <td>23.776316</td>\n",
       "    </tr>\n",
       "  </tbody>\n",
       "</table>\n",
       "</div>"
      ],
      "text/plain": [
       "   year  treecover_loss__ha  aboveground_co2_emissions__Mg  \\\n",
       "0  2001        5.634249e+05                   1.790238e+08   \n",
       "1  2002        2.584320e+06                   9.276357e+08   \n",
       "2  2003        4.705918e+05                   1.459349e+08   \n",
       "3  2004        5.162738e+05                   1.748335e+08   \n",
       "4  2005        2.534872e+06                   1.014695e+09   \n",
       "\n",
       "   Threatened Species  Species with <1000 individuals  Total Species  \\\n",
       "0                2814                            1619          15200   \n",
       "1                3014                            1619          15200   \n",
       "2                3214                            1619          15200   \n",
       "3                3414                            1619          15200   \n",
       "4                3614                            1619          15200   \n",
       "\n",
       "   Threatened_Percentile  \n",
       "0              18.513158  \n",
       "1              19.828947  \n",
       "2              21.144737  \n",
       "3              22.460526  \n",
       "4              23.776316  "
      ]
     },
     "execution_count": 1,
     "metadata": {},
     "output_type": "execute_result"
    }
   ],
   "source": [
    "from sklearn.tree import DecisionTreeClassifier\n",
    "from sklearn.ensemble import RandomForestClassifier\n",
    "from sklearn.ensemble import GradientBoostingClassifier\n",
    "import pandas as pd  \n",
    "import numpy as np  \n",
    "import matplotlib.pyplot as plt  \n",
    "import seaborn as seabornInstance \n",
    "from sklearn.model_selection import train_test_split \n",
    "from sklearn.linear_model import LinearRegression\n",
    "from sklearn import metrics\n",
    "from sklearn.metrics import mean_squared_error\n",
    "from sklearn.metrics import mean_absolute_error\n",
    "from matplotlib.colors import ListedColormap\n",
    "from sklearn.linear_model import LinearRegression\n",
    "from sklearn.linear_model import Ridge\n",
    "from sklearn.linear_model import Lasso\n",
    "import csv\n",
    "#col_names = ['year', 'aboveground_biomass_loss__Mg', 'treecover_loss__ha', 'aboveground_co2_emissions__Mg', 'Total Species', 'Species with <1000 individuals', 'Threatened Species', 'Threatened Percentile']\n",
    "# load dataset\n",
    "pima = pd.read_csv(\"amazon_train.csv\")\n",
    "pima.head()"
   ]
  },
  {
   "cell_type": "code",
   "execution_count": 2,
   "metadata": {},
   "outputs": [],
   "source": [
    "feature_cols = ['year', 'treecover_loss__ha', 'aboveground_co2_emissions__Mg', 'Total Species', 'Species with <1000 individuals', 'Threatened Species','Threatened_Percentile']\n",
    "X = pima[feature_cols] # Features\n",
    "y = pima.Threatened_Percentile # Target variable"
   ]
  },
  {
   "cell_type": "code",
   "execution_count": 3,
   "metadata": {},
   "outputs": [
    {
     "data": {
      "text/html": [
       "<div>\n",
       "<style scoped>\n",
       "    .dataframe tbody tr th:only-of-type {\n",
       "        vertical-align: middle;\n",
       "    }\n",
       "\n",
       "    .dataframe tbody tr th {\n",
       "        vertical-align: top;\n",
       "    }\n",
       "\n",
       "    .dataframe thead th {\n",
       "        text-align: right;\n",
       "    }\n",
       "</style>\n",
       "<table border=\"1\" class=\"dataframe\">\n",
       "  <thead>\n",
       "    <tr style=\"text-align: right;\">\n",
       "      <th></th>\n",
       "      <th>year</th>\n",
       "      <th>treecover_loss__ha</th>\n",
       "      <th>aboveground_co2_emissions__Mg</th>\n",
       "      <th>Threatened Species</th>\n",
       "      <th>Species with &lt;1000 individuals</th>\n",
       "      <th>Total Species</th>\n",
       "      <th>Threatened_Percentile</th>\n",
       "    </tr>\n",
       "  </thead>\n",
       "  <tbody>\n",
       "    <tr>\n",
       "      <td>0</td>\n",
       "      <td>2030</td>\n",
       "      <td>3017174.341</td>\n",
       "      <td>732307605.1</td>\n",
       "      <td>9090</td>\n",
       "      <td>1619</td>\n",
       "      <td>15200</td>\n",
       "      <td>0</td>\n",
       "    </tr>\n",
       "  </tbody>\n",
       "</table>\n",
       "</div>"
      ],
      "text/plain": [
       "   year  treecover_loss__ha  aboveground_co2_emissions__Mg  \\\n",
       "0  2030         3017174.341                    732307605.1   \n",
       "\n",
       "   Threatened Species  Species with <1000 individuals  Total Species  \\\n",
       "0                9090                            1619          15200   \n",
       "\n",
       "   Threatened_Percentile  \n",
       "0                      0  "
      ]
     },
     "execution_count": 3,
     "metadata": {},
     "output_type": "execute_result"
    }
   ],
   "source": [
    "pima_t = pd.read_csv(\"amazon_test.csv\")\n",
    "pima_t.head()"
   ]
  },
  {
   "cell_type": "code",
   "execution_count": 4,
   "metadata": {},
   "outputs": [
    {
     "data": {
      "text/plain": [
       "array([58.47843244])"
      ]
     },
     "execution_count": 4,
     "metadata": {},
     "output_type": "execute_result"
    }
   ],
   "source": [
    "feature_cols = ['year', 'treecover_loss__ha', 'aboveground_co2_emissions__Mg', 'Total Species', 'Species with <1000 individuals', 'Threatened Species']\n",
    "\n",
    "#X_train, X_test, y_train, y_test = train_test_split(X, y, test_size=0.3, random_state=1) # 70% training and 30% test\n",
    "Xtrain=np.array(pima[feature_cols])\n",
    "ytrain=np.array(pima.Threatened_Percentile)\n",
    "\n",
    "feature_cols = ['year', 'treecover_loss__ha', 'aboveground_co2_emissions__Mg', 'Total Species', 'Species with <1000 individuals', 'Threatened Species']\n",
    "X = pima_t[feature_cols] # Features\n",
    "X_test=np.array(X)\n",
    "clf =Lasso(alpha=0.5)\n",
    "\n",
    "# Train Decision Tree Classifer\n",
    "clf = clf.fit(Xtrain,ytrain)\n",
    "\n",
    "#Predict the response for test dataset\n",
    "y_pred = clf.predict(X_test)\n",
    "y_pred"
   ]
  },
  {
   "cell_type": "code",
   "execution_count": 5,
   "metadata": {},
   "outputs": [
    {
     "data": {
      "image/png": "[encoded data removed]",
      "text/plain": [
       "<Figure size 871.92x377.28 with 1 Axes>"
      ]
     },
     "metadata": {
      "needs_background": "light"
     },
     "output_type": "display_data"
    }
   ],
   "source": [
    "Y = pima['year'].values\n",
    "#1\n",
    "X1 = pima['Threatened_Percentile'].values\n",
    "fig = plt.gcf()\n",
    "fig.set_size_inches(12.11, 5.24)\n",
    "plt.xlim(2000,2032)\n",
    "plt.ylim(15,65)\n",
    "plt.plot(Y,X1, color = 'Red')\n",
    "plt.ylabel('Threatened_Percentile')\n",
    "plt.xlabel('Year')\n",
    "plt.show()"
   ]
  },
  {
   "cell_type": "code",
   "execution_count": null,
   "metadata": {},
   "outputs": [],
   "source": []
  }
 ],
 "metadata": {
  "kernelspec": {
   "display_name": "Python 3",
   "language": "python",
   "name": "python3"
  },
  "language_info": {
   "codemirror_mode": {
    "name": "ipython",
    "version": 3
   },
   "file_extension": ".py",
   "mimetype": "text/x-python",
   "name": "python",
   "nbconvert_exporter": "python",
   "pygments_lexer": "ipython3",
   "version": "3.7.4"
  }
 },
 "nbformat": 4,
 "nbformat_minor": 2
}
